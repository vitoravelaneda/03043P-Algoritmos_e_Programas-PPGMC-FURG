{
 "cells": [
  {
   "cell_type": "markdown",
   "id": "d04428a9",
   "metadata": {},
   "source": [
    "------------------------------------------------------------------------------------------------------------------\n",
    "# PPGMC - FURG | 03043P - Algoritmos e Programas | 02/2023\n",
    "\n",
    "Este notebook contém a resolução da tarefa referente ao tópico 8 da disciplina 03043P - Algoritmos e Programas do Programa de Pós-Graduação em Modelagem Computacional da FURG (PPGMC-FURG).\n",
    "* **Docente:** Dr. Leonardo Ramos Emmendorfer.\n",
    "* **Discente:** Vitor Avelaneda.\n",
    "    * **Contato:** avelaneda.vitor@gmail.com\n",
    "\n",
    "O repositório com os notebooks pode ser acessado [aqui](https://github.com/vitoravelaneda/03043P-Algoritmos_e_Programas-PPGMC-FURG), e este notebook pode ser acessado [aqui!](https://github.com/vitoravelaneda/03043P-Algoritmos_e_Programas-PPGMC-FURG/blob/main/notebooks/tarefa_topico_8.ipynb)\n",
    "\n",
    "------------------------------------------------------------------------------------------------------------------"
   ]
  },
  {
   "cell_type": "markdown",
   "id": "33ee50dc",
   "metadata": {},
   "source": [
    "# Tarefa Tópico 8\n",
    "\n",
    "#### 1) **Escreva um programa para encontrar a soma S = 3 + 6 + 9 + …. + 333.**"
   ]
  },
  {
   "cell_type": "code",
   "execution_count": 1,
   "id": "13d36820",
   "metadata": {},
   "outputs": [
    {
     "name": "stdout",
     "output_type": "stream",
     "text": [
      "A soma da série é: 18648\n"
     ]
    }
   ],
   "source": [
    "# Incialmente a variável `soma` deve ser atribuida como zero.\n",
    "soma = 0\n",
    "\n",
    "# Aplicando o loop para percorrer os números de 3 a 333 com incrementos de 3.\n",
    "for i in range(3, 334, 3):\n",
    "    soma += i # utilizei o operador de atribuição +=\n",
    "    \n",
    "# Mostrando o resultado.\n",
    "print(f\"A soma da série é: {soma}\")"
   ]
  },
  {
   "cell_type": "markdown",
   "id": "45818fdc",
   "metadata": {},
   "source": [
    "#### **2) Escreva um programa que leia 10 notas (valores reais de 0 a 10) e informe a média das notas lidas.** "
   ]
  },
  {
   "cell_type": "code",
   "execution_count": 2,
   "id": "985230d9",
   "metadata": {},
   "outputs": [
    {
     "name": "stdout",
     "output_type": "stream",
     "text": [
      "Insira a nota 1 (de 0 a 10): 1\n",
      "Insira a nota 2 (de 0 a 10): 2\n",
      "Insira a nota 3 (de 0 a 10): 1\n",
      "Insira a nota 4 (de 0 a 10): 2\n",
      "Insira a nota 5 (de 0 a 10): 1\n",
      "Insira a nota 6 (de 0 a 10): 2\n",
      "Insira a nota 7 (de 0 a 10): 1\n",
      "Insira a nota 8 (de 0 a 10): 2\n",
      "Insira a nota 9 (de 0 a 10): 1\n",
      "Insira a nota 10 (de 0 a 10): 2\n",
      "A média das notas é: 1.50\n"
     ]
    }
   ],
   "source": [
    "# Incialmente a variável `soma` deve ser atribuida como zero.\n",
    "soma_notas = 0\n",
    "\n",
    "# Lendo as 10 notas.\n",
    "for i in range(1, 11):\n",
    "    # Recebendo a nota.\n",
    "    nota = float(input(f\"Insira a nota {i} (de 0 a 10): \"))\n",
    "    \n",
    "    # Verificando se a nota está no intervalo de 0 a 10.\n",
    "    if 0 <= nota <= 10:\n",
    "        soma_notas += nota\n",
    "    else:\n",
    "        print(\"Você inseriu um valor invalido. Por favor, insira uma nota de 0 a 10.\")\n",
    "        \n",
    "# Calculando a média das notas\n",
    "\n",
    "media = soma_notas / 10\n",
    "\n",
    "# Mostrando a média das notas\n",
    "print(f\"A média das notas é: {media:.2f}\")\n",
    "    "
   ]
  },
  {
   "cell_type": "markdown",
   "id": "40f85b87",
   "metadata": {},
   "source": [
    "#### 3) **Escreva um programa que leia um número inteiro maior ou igual a 2 e menor ou igual a 9, e mostre a tabuada desse número.**"
   ]
  },
  {
   "cell_type": "code",
   "execution_count": 3,
   "id": "8ec80489",
   "metadata": {
    "scrolled": true
   },
   "outputs": [
    {
     "name": "stdout",
     "output_type": "stream",
     "text": [
      "Digite um número entre 2 e 9: 2\n",
      "Tabuada do 2:\n",
      "2 x 1 = 2\n",
      "2 x 2 = 4\n",
      "2 x 3 = 6\n",
      "2 x 4 = 8\n",
      "2 x 5 = 10\n",
      "2 x 6 = 12\n",
      "2 x 7 = 14\n",
      "2 x 8 = 16\n",
      "2 x 9 = 18\n",
      "2 x 10 = 20\n"
     ]
    }
   ],
   "source": [
    "# Recebendo um número.\n",
    "numero = int(input(\"Digite um número entre 2 e 9: \"))\n",
    "\n",
    "# Verificando se o número está dentro do intervalo.\n",
    "if 2 <= numero <= 9:\n",
    "    print(f\"Tabuada do {numero}:\")\n",
    "    \n",
    "    # Calculando a tabuada.\n",
    "    for i in range(1, 11):\n",
    "        resultado = numero * i\n",
    "        print(f\"{numero} x {i} = {resultado}\")\n",
    "else:\n",
    "    print(\"O número digitado está fora do intervalo válido!\")"
   ]
  },
  {
   "cell_type": "markdown",
   "id": "8381a340",
   "metadata": {},
   "source": [
    "------------------------------------------------------------------------------------------------------------------"
   ]
  }
 ],
 "metadata": {
  "kernelspec": {
   "display_name": "Python 3 (ipykernel)",
   "language": "python",
   "name": "python3"
  },
  "language_info": {
   "codemirror_mode": {
    "name": "ipython",
    "version": 3
   },
   "file_extension": ".py",
   "mimetype": "text/x-python",
   "name": "python",
   "nbconvert_exporter": "python",
   "pygments_lexer": "ipython3",
   "version": "3.10.12"
  }
 },
 "nbformat": 4,
 "nbformat_minor": 5
}
