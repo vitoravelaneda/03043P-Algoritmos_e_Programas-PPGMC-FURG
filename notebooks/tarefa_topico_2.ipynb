{
 "cells": [
  {
   "cell_type": "markdown",
   "id": "d04428a9",
   "metadata": {},
   "source": [
    "------------------------------------------------------------------------------------------------------------------\n",
    "# PPGMC - FURG | 03043P - Algoritmos e Programas | 02/2023\n",
    "\n",
    "Este notebook contém a resolução da tarefa referente ao tópico 2 da disciplina 03043P - Algoritmos e Programas do Programa de Pós-Graduação em Modelagem Computacional da FURG (PPGMC-FURG).\n",
    "* **Docente:** Dr. Leonardo Ramos Emmendorfer.\n",
    "* **Discente:** Vitor Avelaneda.\n",
    "    * **Contato:** avelaneda.vitor@gmail.com\n",
    "\n",
    "O repositório com os notebooks pode ser acessado [aqui!](https://github.com/vitoravelaneda/03043P-Algoritmos_e_Programas-PPGMC-FURG), e este notebook pode ser acessado [aqui!](https://github.com/vitoravelaneda/03043P-Algoritmos_e_Programas-PPGMC-FURG/blob/main/notebooks/tarefa_topico_2.ipynb)\n",
    "\n",
    "------------------------------------------------------------------------------------------------------------------"
   ]
  },
  {
   "cell_type": "markdown",
   "id": "33ee50dc",
   "metadata": {},
   "source": [
    "# Tarefa Tópico 2 \n",
    "Explore o código fornecido, que calcula o triângulo de Pascal, ou outros exemplos de código em Python na Internet. Execute no ambiente de sua escolha, faça capturas de tela e entregue como resultado da tarefa.\n",
    "* [Triângulo de Pascal e relação de Stifel em Python](https://youtu.be/4ePJbspIWQk?si=f8Cl4YY6OGqrni4l)"
   ]
  },
  {
   "cell_type": "code",
   "execution_count": 2,
   "id": "936b0402",
   "metadata": {},
   "outputs": [
    {
     "name": "stdout",
     "output_type": "stream",
     "text": [
      "[1]\n",
      "[1, 1]\n",
      "[1, 2, 1]\n",
      "[1, 3, 3, 1]\n",
      "[1, 4, 6, 4, 1]\n"
     ]
    }
   ],
   "source": [
    "v=[1]\n",
    "n_row = 5\n",
    "\n",
    "for i in range(n_row):\n",
    "    print(v)\n",
    "    v.append(0)\n",
    "    w=[1]\n",
    "    for j in range(len(v)):\n",
    "        if j>0:\n",
    "            w.append(v[j-1]+v[j])\n",
    "    v=w\n"
   ]
  },
  {
   "cell_type": "markdown",
   "id": "ee28c1e3",
   "metadata": {},
   "source": [
    "------------------------------------------------------------------------------------------------------------------"
   ]
  }
 ],
 "metadata": {
  "kernelspec": {
   "display_name": "Python 3 (ipykernel)",
   "language": "python",
   "name": "python3"
  },
  "language_info": {
   "codemirror_mode": {
    "name": "ipython",
    "version": 3
   },
   "file_extension": ".py",
   "mimetype": "text/x-python",
   "name": "python",
   "nbconvert_exporter": "python",
   "pygments_lexer": "ipython3",
   "version": "3.10.12"
  }
 },
 "nbformat": 4,
 "nbformat_minor": 5
}
