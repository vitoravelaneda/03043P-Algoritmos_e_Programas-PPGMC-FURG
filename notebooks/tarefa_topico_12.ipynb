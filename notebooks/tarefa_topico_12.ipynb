{
 "cells": [
  {
   "cell_type": "markdown",
   "id": "d04428a9",
   "metadata": {},
   "source": [
    "------------------------------------------------------------------------------------------------------------------\n",
    "# PPGMC - FURG | 03043P - Algoritmos e Programas | 02/2023\n",
    "\n",
    "Este notebook contém a resolução da tarefa referente ao tópico 12 da disciplina 03043P - Algoritmos e Programas do Programa de Pós-Graduação em Modelagem Computacional da FURG (PPGMC-FURG).\n",
    "* **Docente:** Dr. Leonardo Ramos Emmendorfer.\n",
    "* **Discente:** Vitor Avelaneda.\n",
    "    * **Contato:** avelaneda.vitor@gmail.com\n",
    "\n",
    "O repositório com os notebooks pode ser acessado [aqui](https://github.com/vitoravelaneda/03043P-Algoritmos_e_Programas-PPGMC-FURG), e este notebook pode ser acessado [aqui!](https://github.com/vitoravelaneda/03043P-Algoritmos_e_Programas-PPGMC-FURG/blob/main/notebooks/tarefa_topico_12.ipynb)\n",
    "\n",
    "------------------------------------------------------------------------------------------------------------------"
   ]
  },
  {
   "cell_type": "markdown",
   "id": "33ee50dc",
   "metadata": {},
   "source": [
    "# Tarefa Tópico 12\n",
    "\n",
    "1) Ler o arquivo em http://techtldr.com/wp-content/uploads/actors.csv por meio de código em Python, usando o pacote \"csv\".\n"
   ]
  },
  {
   "cell_type": "code",
   "execution_count": 1,
   "id": "a3bf06d2",
   "metadata": {},
   "outputs": [
    {
     "name": "stdout",
     "output_type": "stream",
     "text": [
      "['First Name', 'Last Name', 'Date of Birth']\n",
      "['Tom', 'Cruise', 'July 3, 1962']\n",
      "['Bruce', 'Willis', 'March 19, 1955']\n",
      "['Morgan', 'Freeman', 'June 1, 1937']\n",
      "['John', 'Wayne', 'May 26, 1907']\n"
     ]
    }
   ],
   "source": [
    "import csv\n",
    "from urllib.request import urlopen\n",
    "\n",
    "url_atores = 'http://techtldr.com/wp-content/uploads/actors.csv'\n",
    "\n",
    "resposta = urlopen(url_atores)\n",
    "\n",
    "df = csv.reader(resposta.read().decode('utf-8').splitlines())\n",
    "\n",
    "for row in df:\n",
    "    print(row)"
   ]
  },
  {
   "cell_type": "markdown",
   "id": "90524e5a",
   "metadata": {},
   "source": [
    "2) Retirar o cabeçalho do arquivo lido."
   ]
  },
  {
   "cell_type": "code",
   "execution_count": 2,
   "id": "daf44b08",
   "metadata": {},
   "outputs": [
    {
     "name": "stdout",
     "output_type": "stream",
     "text": [
      "['Tom', 'Cruise', 'July 3, 1962']\n",
      "['Bruce', 'Willis', 'March 19, 1955']\n",
      "['Morgan', 'Freeman', 'June 1, 1937']\n",
      "['John', 'Wayne', 'May 26, 1907']\n"
     ]
    }
   ],
   "source": [
    "import csv\n",
    "from urllib.request import urlopen\n",
    "\n",
    "url_atores = 'http://techtldr.com/wp-content/uploads/actors.csv'\n",
    "\n",
    "resposta = urlopen(url_atores)\n",
    "df = csv.reader(resposta.read().decode('utf-8').splitlines())\n",
    "\n",
    "# Ignorar a primeira linha (cabeçalho)\n",
    "next(df, None)\n",
    "\n",
    "# Iterar sobre as linhas restantes\n",
    "for row in df:\n",
    "    print(row)"
   ]
  },
  {
   "cell_type": "markdown",
   "id": "2d10a6b3",
   "metadata": {},
   "source": [
    "3) Calcular automaticamente a média entre todas as idades dos artistas descritos no arquivo."
   ]
  },
  {
   "cell_type": "code",
   "execution_count": 3,
   "id": "11813a52",
   "metadata": {},
   "outputs": [
    {
     "name": "stdout",
     "output_type": "stream",
     "text": [
      "Média de idades dos artistas: 82.75 anos\n"
     ]
    }
   ],
   "source": [
    "import csv\n",
    "from urllib.request import urlopen\n",
    "from datetime import datetime\n",
    "\n",
    "url_atores = 'http://techtldr.com/wp-content/uploads/actors.csv'\n",
    "\n",
    "resposta = urlopen(url_atores)\n",
    "df = csv.reader(resposta.read().decode('utf-8').splitlines())\n",
    "\n",
    "# Ignorar a primeira linha (cabeçalho)\n",
    "next(df, None)\n",
    "\n",
    "# Lista para armazenar as idades\n",
    "idades = []\n",
    "\n",
    "# Obtém as idades e adiciona à lista\n",
    "for row in df:\n",
    "    data_do_aniversario = datetime.strptime(row[2], '%B %d, %Y')\n",
    "    idade = datetime.now().year - data_do_aniversario.year\n",
    "    idades.append(idade)\n",
    "\n",
    "# Calcular a média das idades\n",
    "idade_media = sum(idades) / len(idades)\n",
    "\n",
    "print(f'Média de idades dos artistas: {idade_media:.2f} anos')\n"
   ]
  },
  {
   "cell_type": "markdown",
   "id": "2762898b",
   "metadata": {},
   "source": [
    "4) Salvar localmente o seguinte arquivo:  https://raw.githubusercontent.com/emmendorfer/idwr/main/demo/datasets/amazon.csv"
   ]
  },
  {
   "cell_type": "code",
   "execution_count": 4,
   "id": "a326a0c6",
   "metadata": {},
   "outputs": [
    {
     "name": "stdout",
     "output_type": "stream",
     "text": [
      "O arquivo foi salvo localmente como amazon.csv\n"
     ]
    }
   ],
   "source": [
    "import pandas as pd\n",
    "\n",
    "url_amazon = \"https://raw.githubusercontent.com/emmendorfer/idwr/main/demo/datasets/amazon.csv\"\n",
    "local_filename = \"amazon.csv\"\n",
    "\n",
    "# Faz o download do arquivo CSV e lê diretamente para um DataFrame do pandas\n",
    "df = pd.read_csv(url_amazon)\n",
    "\n",
    "# Salva o DataFrame em um arquivo CSV local\n",
    "df.to_csv(local_filename, index=False, encoding='utf-8')\n",
    "\n",
    "print(f'O arquivo foi salvo localmente como {local_filename}')\n",
    "\n"
   ]
  },
  {
   "cell_type": "markdown",
   "id": "d4e2ab71",
   "metadata": {},
   "source": [
    "5) Converter os dados lidos para uma matriz do \"numpy\" usando \"pandas\".  Utilizar as funções read_csv() e to_numpy() "
   ]
  },
  {
   "cell_type": "code",
   "execution_count": 5,
   "id": "7f07d3c7",
   "metadata": {},
   "outputs": [
    {
     "name": "stdout",
     "output_type": "stream",
     "text": [
      "[[9.8700e-01 6.2924e+01 5.0060e+02]\n",
      " [4.0970e+00 6.3145e+01 2.7481e+03]\n",
      " [6.6500e+00 6.9869e+01 1.0186e+03]\n",
      " [3.2950e+00 6.0628e+01 2.0876e+03]\n",
      " [3.1040e+00 6.0016e+01 2.7511e+03]\n",
      " [5.7890e+00 6.1288e+01 2.6105e+03]\n",
      " [2.0570e+00 6.0026e+01 5.0420e+02]\n",
      " [1.2500e-01 6.7061e+01 8.9900e+01]]\n"
     ]
    }
   ],
   "source": [
    "import pandas as pd\n",
    "\n",
    "# Ler o arquivo CSV usando pandas\n",
    "amazon_df = pd.read_csv(\"amazon.csv\", header=None)\n",
    "\n",
    "# Converter os dados para uma matriz do numpy usando to_numpy()\n",
    "amazon_matriz = amazon_df.to_numpy()\n",
    "\n",
    "# Imprimir a matriz\n",
    "print(amazon_matriz)\n"
   ]
  },
  {
   "cell_type": "markdown",
   "id": "6011d2a1",
   "metadata": {},
   "source": [
    "6) Obtenha um arquivo CSV com dados relacionados aos seus interesses acadêmicos. Faça a leitura do arquivo em Python. "
   ]
  },
  {
   "cell_type": "code",
   "execution_count": 6,
   "id": "eeefbcd0",
   "metadata": {
    "scrolled": true
   },
   "outputs": [
    {
     "name": "stdout",
     "output_type": "stream",
     "text": [
      "     wavel($\\mu$m)  intensity(km/kmol)\n",
      "0         0.000000                 0.0\n",
      "1         0.516864                 0.0\n",
      "2         0.930354                 0.0\n",
      "3         1.261147                 0.0\n",
      "4         1.525781                 0.0\n",
      "..             ...                 ...\n",
      "245      18.658124                 0.0\n",
      "246      21.188405                 0.0\n",
      "247      24.224743                 0.0\n",
      "248      27.868349                 0.0\n",
      "249      32.240676                 0.0\n",
      "\n",
      "[250 rows x 2 columns]\n"
     ]
    }
   ],
   "source": [
    "import pandas as pd\n",
    "from urllib.request import urlopen\n",
    "\n",
    "url_molecula = \"https://raw.githubusercontent.com/vitoravelaneda/plot_moleculas/main/input/h2o_neutral.csv\"\n",
    "\n",
    "df = pd.read_csv(url_molecula, encoding='utf-8')\n",
    "\n",
    "print(df) # df.head(), df.tail(), df.sample() também é opção."
   ]
  },
  {
   "cell_type": "markdown",
   "id": "8381a340",
   "metadata": {},
   "source": [
    "------------------------------------------------------------------------------------------------------------------"
   ]
  }
 ],
 "metadata": {
  "kernelspec": {
   "display_name": "Python 3 (ipykernel)",
   "language": "python",
   "name": "python3"
  },
  "language_info": {
   "codemirror_mode": {
    "name": "ipython",
    "version": 3
   },
   "file_extension": ".py",
   "mimetype": "text/x-python",
   "name": "python",
   "nbconvert_exporter": "python",
   "pygments_lexer": "ipython3",
   "version": "3.10.12"
  }
 },
 "nbformat": 4,
 "nbformat_minor": 5
}
