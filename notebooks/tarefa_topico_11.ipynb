{
 "cells": [
  {
   "cell_type": "markdown",
   "id": "d04428a9",
   "metadata": {},
   "source": [
    "------------------------------------------------------------------------------------------------------------------\n",
    "# PPGMC - FURG | 03043P - Algoritmos e Programas | 02/2023\n",
    "\n",
    "Este notebook contém a resolução da tarefa referente ao tópico 11 da disciplina 03043P - Algoritmos e Programas do Programa de Pós-Graduação em Modelagem Computacional da FURG (PPGMC-FURG).\n",
    "* **Docente:** Dr. Leonardo Ramos Emmendorfer.\n",
    "* **Discente:** Vitor Avelaneda.\n",
    "    * **Contato:** avelaneda.vitor@gmail.com\n",
    "\n",
    "O repositório com os notebooks pode ser acessado [aqui](https://github.com/vitoravelaneda/03043P-Algoritmos_e_Programas-PPGMC-FURG), e este notebook pode ser acessado [aqui!](https://github.com/vitoravelaneda/03043P-Algoritmos_e_Programas-PPGMC-FURG/blob/main/notebooks/tarefa_topico_11.ipynb)\n",
    "\n",
    "------------------------------------------------------------------------------------------------------------------"
   ]
  },
  {
   "cell_type": "markdown",
   "id": "33ee50dc",
   "metadata": {},
   "source": [
    "# Tarefa Tópico 11\n",
    "\n",
    "Executar todos os códigos em Python mostrados no [vídeo](https://youtu.be/Blzp9iuhZqo?si=RnC-XoKhcPi-Odz7). Entregar arquivo texto contendo os códigos.\n"
   ]
  },
  {
   "cell_type": "code",
   "execution_count": 1,
   "id": "b95526c4",
   "metadata": {},
   "outputs": [
    {
     "name": "stdout",
     "output_type": "stream",
     "text": [
      "ndim retorna a dimensionalidade da matriz: 2\n",
      "shape retorna a forma da matriz: (2, 3)\n",
      "size retorna o número total de elementos na matriz: 6\n",
      "flatten() transforma a matriz em uma única dimensão: [1 2 3 4 5 6]\n"
     ]
    }
   ],
   "source": [
    "from numpy import *\n",
    "\n",
    "arr1 = array([[1,2,3],\n",
    "              [4,5,6]]) # Este trecho cria uma matriz bidimensional usando 'array' do NumPy.\n",
    "\n",
    "print(f'ndim retorna a dimensionalidade da matriz: {arr1.ndim}')\n",
    "print(f'shape retorna a forma da matriz: {arr1.shape}')\n",
    "print(f'size retorna o número total de elementos na matriz: {arr1.size}')\n",
    "\n",
    "arr2 = arr1.flatten() \n",
    "print(f'flatten() transforma a matriz em uma única dimensão: {arr2}') "
   ]
  },
  {
   "cell_type": "code",
   "execution_count": 2,
   "id": "4495fe85",
   "metadata": {},
   "outputs": [
    {
     "name": "stdout",
     "output_type": "stream",
     "text": [
      "[[1 2 3 6]\n",
      " [2 9 4 5]\n",
      " [6 7 5 3]]\n"
     ]
    }
   ],
   "source": [
    "arr1 = array([[1,2,3,6,2,9], \n",
    "              [4,5,6,7,5,3]])\n",
    "\n",
    "# Usando flatten para transformar a matriz em uma dimensão.\n",
    "arr2 = arr1.flatten()\n",
    "\n",
    "# Usando reshape para reorganizar a matriz para uma forma específica.\n",
    "arr3 = arr1.reshape(3,4) # reorganizar a matriz com 3 linhas e 4 colunas.\n",
    "\n",
    "# Imprimindo a matriz resultante após a operação reshape.\n",
    "print(arr3)"
   ]
  },
  {
   "cell_type": "code",
   "execution_count": 3,
   "id": "328f6944",
   "metadata": {},
   "outputs": [
    {
     "name": "stdout",
     "output_type": "stream",
     "text": [
      "[[[1 2 3]\n",
      "  [6 2 9]]\n",
      "\n",
      " [[4 5 6]\n",
      "  [7 5 3]]]\n"
     ]
    }
   ],
   "source": [
    "arr1 = array([[1,2,3,6,2,9], \n",
    "              [4,5,6,7,5,3]])\n",
    "\n",
    "# Usando flatten para transformar a matriz em uma dimensão.\n",
    "arr2 = arr1.flatten()\n",
    "\n",
    "# Usando reshape para reorganizar a matriz para uma forma específica.\n",
    "arr3 = arr1.reshape(2,2,3) # reorganizar a matriz com 2 blocos, 2 linhas e 3 colunas.\n",
    "\n",
    "# Imprimindo a matriz resultante após a operação reshape.\n",
    "print(arr3)"
   ]
  },
  {
   "cell_type": "code",
   "execution_count": 4,
   "id": "b2cefd70",
   "metadata": {},
   "outputs": [
    {
     "name": "stdout",
     "output_type": "stream",
     "text": [
      "[1 4 7]\n",
      "1\n",
      "7\n"
     ]
    }
   ],
   "source": [
    "m = matrix('1 2 3; 6 4 5;1 6 7') # Cria uma matriz 3x3 chamada m usando a função matrix do NumPy.\n",
    "print(diagonal(m)) # obtem a diagonal principal da matriz 'm' e imprime.\n",
    "print(m.min()) # obtem o valor mínimo da matriz 'm' e imprime.\n",
    "print(m.max()) # obtem o valor máximo da matriz 'm' e imprime."
   ]
  },
  {
   "cell_type": "code",
   "execution_count": 5,
   "id": "cf9d8924",
   "metadata": {},
   "outputs": [
    {
     "name": "stdout",
     "output_type": "stream",
     "text": [
      "[[ 2  4  6]\n",
      " [12 12 10]\n",
      " [ 3 12 14]]\n"
     ]
    }
   ],
   "source": [
    "m1 = matrix('1 2 3; 6 4 5; 1 6 7')\n",
    "m2 = matrix('1 2 3; 6 8 5; 2 6 7')\n",
    "\n",
    "m3 = m1 + m2;\n",
    "print(m3)"
   ]
  },
  {
   "cell_type": "code",
   "execution_count": 6,
   "id": "734ae6c5",
   "metadata": {
    "scrolled": true
   },
   "outputs": [
    {
     "name": "stdout",
     "output_type": "stream",
     "text": [
      "[[ 0  0  0]\n",
      " [ 0 -4  0]\n",
      " [-1  0  0]]\n"
     ]
    }
   ],
   "source": [
    "m1 = matrix('1 2 3; 6 4 5; 1 6 7')\n",
    "m2 = matrix('1 2 3; 6 8 5; 2 6 7')\n",
    "\n",
    "m3 = m1 - m2;\n",
    "print(m3)"
   ]
  },
  {
   "cell_type": "code",
   "execution_count": 7,
   "id": "edee5f53",
   "metadata": {},
   "outputs": [
    {
     "name": "stdout",
     "output_type": "stream",
     "text": [
      "[[19 36 34]\n",
      " [40 74 73]\n",
      " [51 92 82]]\n"
     ]
    }
   ],
   "source": [
    "m1 = matrix('1 2 3; 6 4 5; 1 6 7')\n",
    "m2 = matrix('1 2 3; 6 8 5; 2 6 7')\n",
    "\n",
    "m3 = m1 * m2;\n",
    "print(m3)"
   ]
  },
  {
   "cell_type": "markdown",
   "id": "8381a340",
   "metadata": {},
   "source": [
    "------------------------------------------------------------------------------------------------------------------"
   ]
  }
 ],
 "metadata": {
  "kernelspec": {
   "display_name": "Python 3 (ipykernel)",
   "language": "python",
   "name": "python3"
  },
  "language_info": {
   "codemirror_mode": {
    "name": "ipython",
    "version": 3
   },
   "file_extension": ".py",
   "mimetype": "text/x-python",
   "name": "python",
   "nbconvert_exporter": "python",
   "pygments_lexer": "ipython3",
   "version": "3.10.12"
  }
 },
 "nbformat": 4,
 "nbformat_minor": 5
}
