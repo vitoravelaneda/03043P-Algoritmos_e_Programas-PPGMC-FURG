{
 "cells": [
  {
   "cell_type": "markdown",
   "id": "d04428a9",
   "metadata": {},
   "source": [
    "------------------------------------------------------------------------------------------------------------------\n",
    "# PPGMC - FURG | 03043P - Algoritmos e Programas - 02/2023\n",
    "\n",
    "Este notebook contém as resoluções das tarefas realizadas pelo discente **Vitor Avelaneda** na disciplina Algoritmos e Programas ministrada pelo professor Dr. Leonardo Ramos Emmendorfer.\n",
    "\n",
    "O repositório com os notebooks pode ser acessado [aqui!](https://github.com/vitoravelaneda/03043P-Algoritmos_e_Programas-PPGMC-FURG)\n",
    "\n",
    "------------------------------------------------------------------------------------------------------------------"
   ]
  },
  {
   "cell_type": "markdown",
   "id": "33ee50dc",
   "metadata": {},
   "source": [
    "# Tarefa Tópico 3 \n",
    "* Execute cada um dos programas a seguir. Após consultar o materiais do curso, explique o que faz cada programa. Quais são as variáveis envolvidas? Quais tipos de dados estão sendo trabalhados em cada programa? Qual o resultado de cada programa?\n",
    "\n",
    "#### * Programa 1:\n",
    "```python\n",
    "a=5\n",
    "\n",
    "b=10\n",
    "\n",
    "c=a+b\n",
    "\n",
    "c\n",
    "```\n",
    "\n",
    "#### * Programa 2:\n",
    "```python\n",
    "a=6.2\n",
    "\n",
    "b=4.1\n",
    "\n",
    "c=a-b\n",
    "\n",
    "c\n",
    "```\n",
    "\n",
    "#### * Programa 3:\n",
    "```python\n",
    "a=\"Modelagem \"\n",
    "\n",
    "b=\"Computacional\"\n",
    "\n",
    "c=a+b\n",
    "\n",
    "c\n",
    "```\n",
    "#### * Programa 4:\n",
    "```python\n",
    "a=[]\n",
    "\n",
    "a.append(5)\n",
    "\n",
    "a.append(7)\n",
    "\n",
    "a.append(11)\n",
    "\n",
    "a\n",
    "```\n",
    "     \n",
    "#### * Programa 5:\n",
    "```python\n",
    "a=3\n",
    "\n",
    "b=a>4\n",
    "\n",
    "c=b or True\n",
    "\n",
    "c\n",
    "```\n",
    "\n",
    "\n",
    "\n",
    "\n",
    "\n",
    "\n"
   ]
  },
  {
   "cell_type": "markdown",
   "id": "d61fb922",
   "metadata": {},
   "source": [
    "### Executando - Programa 1:"
   ]
  },
  {
   "cell_type": "code",
   "execution_count": 5,
   "id": "3e378fdd",
   "metadata": {},
   "outputs": [
    {
     "data": {
      "text/plain": [
       "15"
      ]
     },
     "execution_count": 5,
     "metadata": {},
     "output_type": "execute_result"
    }
   ],
   "source": [
    "a=5\n",
    "\n",
    "b=10\n",
    "\n",
    "c=a+b\n",
    "\n",
    "c"
   ]
  },
  {
   "cell_type": "markdown",
   "id": "6961947d",
   "metadata": {},
   "source": [
    "### Explicação - Programa 1:\n",
    "\n",
    "* **Variáveis envolvidas:**\n",
    "    * `a`: é a variável que armazena o valor `5`.\n",
    "    * `b`: é a variável que armazena o valor `10`.\n",
    "    * `c`: é a variável que armazena a soma dos valores de `a` e `b`.\n",
    "\n",
    "* **Tipos de dados envolvidos:**\n",
    "    * `a`: É uma variável (int), pois foi atribuida a ela o número interiro `5`.\n",
    "    * `b`: Também é uma variável (int), pois foi atribuida a ela o número interiro `10`.\n",
    "    * `c`: É uma variável (int), porque é o resultado da soma de dois números inteiros.\n",
    "\n",
    "* **Resultados do programa:**\n",
    "    * `a=5`: Atribui o valor `5` na variável `a`.\n",
    "    * `b=10`: Atribui o valor `10` na variável `b`.\n",
    "    * `c=a+b`: Atribui o valor da soma dos número `5` e `10` contidos em `a` e `b` na variável `c`.\n",
    "    * `c`: Mostra a saida do valor contido na variável `c` (`15`). O mais recomendado seria utilizar `print(c)`para imprimir o valor da variável.\n",
    "    \n",
    "    "
   ]
  },
  {
   "cell_type": "markdown",
   "id": "f47c7253",
   "metadata": {},
   "source": [
    "### Executando - Programa 2:"
   ]
  },
  {
   "cell_type": "code",
   "execution_count": 7,
   "id": "43ce1065",
   "metadata": {},
   "outputs": [
    {
     "data": {
      "text/plain": [
       "2.1000000000000005"
      ]
     },
     "execution_count": 7,
     "metadata": {},
     "output_type": "execute_result"
    }
   ],
   "source": [
    "a=6.2\n",
    "\n",
    "b=4.1\n",
    "\n",
    "c=a-b\n",
    "\n",
    "c"
   ]
  },
  {
   "cell_type": "markdown",
   "id": "0ccb1fe1",
   "metadata": {},
   "source": [
    "### Explicação - Programa 2:\n",
    "\n",
    "* **Variáveis envolvidas:**\n",
    "    * `a`: é a variável que armazena o valor `6.2`.\n",
    "    * `b`: é a variável que armazena o valor `4.1`.\n",
    "    * `c`: é a variável que armazena a subtração dos valores de `a` e `b`.\n",
    "\n",
    "* **Tipos de dados envolvidos:**\n",
    "    * `a`: É uma variável ponto flutuante (float), pois foi atribuida a ela o número `6.2`.\n",
    "    * `b`: Também é uma variável ponto flutuante (float), pois foi atribuida a ela o número `4.1`.\n",
    "    * `c`: É uma variável ponto flutuante (float), porque é o resultado da subtração de dois números de ponto flutuante.\n",
    "\n",
    "* **Resultados do programa:**\n",
    "    * `a=6.2`: Atribui o valor `6.2` na variável `a`.\n",
    "    * `b=4.1`: Atribui o valor `4.1` na variável `b`.\n",
    "    * `c=a-b`: Atribui o valor da subtração dos número `6.2` e `4.1` contidos em `a` e `b` na variável `c`.\n",
    "    * `c`: Mostra a saida do valor contido na variável `c` (`2.1000000000000005`). O mais recomendado seria utilizar `print(c)`para imprimir o valor da variável, também podemos usar `print(f\"{c:.3f}\")` para mostrar somente as 3 casas após o ponto.\n",
    "    "
   ]
  },
  {
   "cell_type": "markdown",
   "id": "0442c88d",
   "metadata": {},
   "source": [
    "### Executando - Programa 3:"
   ]
  },
  {
   "cell_type": "code",
   "execution_count": 25,
   "id": "a247f774",
   "metadata": {},
   "outputs": [
    {
     "data": {
      "text/plain": [
       "'Modelagem Computacional'"
      ]
     },
     "execution_count": 25,
     "metadata": {},
     "output_type": "execute_result"
    }
   ],
   "source": [
    "a=\"Modelagem \"\n",
    "\n",
    "b=\"Computacional\"\n",
    "\n",
    "c=a+b\n",
    "\n",
    "c"
   ]
  },
  {
   "cell_type": "markdown",
   "id": "fb8a1863",
   "metadata": {},
   "source": [
    "### Explicação - Programa 3:\n",
    "\n",
    "* **Variáveis envolvidas:**\n",
    "    * `a`: É a variável que armazena os caracteres `\"Modelagem \"`.\n",
    "    * `b`: É a variável que armazena os caracteres `\"Computacional\"`.\n",
    "    * `c`: É a variável que armazena a concatenação dos caracteres contidos em `a` e `b`.\n",
    "\n",
    "* **Tipos de dados envolvidos:**\n",
    "    * `a`: É uma variável tipo  'string', pois foi atribuida a ela os caracteres `\"Modelagem \"`.\n",
    "    * `b`: Também é uma variável tipo 'string', pois foi atribuida os caracteres `\"Computacional\"`.\n",
    "    * `c`: É uma variável tipo 'string', porque é o resultado da concatenação dos caracteres contidos em `a` e `b`.\n",
    "\n",
    "* **Resultados do programa:**\n",
    "    * `a=\"Modelagem \"`: Atribui os caracteres `\"Modelagem \"` a variável `a`.\n",
    "    * `b=\"Computacional\"`: Atribui os caracteres `\"Modelagem \"` a variável `b`.\n",
    "    * `c=a+b`: Atribui a concatenação dos caracteres `\"Modelagem \"` e `\"Computacional\"` contidos em `a` e `b`.\n",
    "    * `c`: Mostra a saida da string contida na variável `c` (`'Modelagem Computacional'`). O mais recomendado seria utilizar `print(c)`para imprimir o valor da variável.\n",
    "    "
   ]
  },
  {
   "cell_type": "markdown",
   "id": "e96c23fb",
   "metadata": {},
   "source": [
    "### Executando - Programa 4:"
   ]
  },
  {
   "cell_type": "code",
   "execution_count": 27,
   "id": "73b01f90",
   "metadata": {},
   "outputs": [
    {
     "data": {
      "text/plain": [
       "[5, 7, 11]"
      ]
     },
     "execution_count": 27,
     "metadata": {},
     "output_type": "execute_result"
    }
   ],
   "source": [
    "a=[]\n",
    "\n",
    "a.append(5)\n",
    "\n",
    "a.append(7)\n",
    "\n",
    "a.append(11)\n",
    "\n",
    "a"
   ]
  },
  {
   "cell_type": "markdown",
   "id": "cc60ce1c",
   "metadata": {},
   "source": [
    "### Explicação - Programa 4:\n",
    "\n",
    "* **Variáveis envolvidas:**\n",
    "    * `a`: é uma variavél que recebe uma lista vazia (`[]`)\n",
    "\n",
    "* **Tipos de dados envolvidos:**\n",
    "    * `a`: É uma lista que pode conter elementos de vários tipos.\n",
    "\n",
    "* **Resultados do programa:**\n",
    "    * `a=[]`: Cria uma lista vazia e atribui a variavel `a`\n",
    "        * `a` é igual a `[]`\n",
    "    * `a.append(5)`: Usa a função append para atribuir o valor `5` para lista.\n",
    "        * `a` é igual a `[5]`\n",
    "    * `a.append(7)`: Usa a função append para atribuir o valor `7` para lista.\n",
    "        * `a` é igual a `[5,7]`\n",
    "    * `a.append(11)`: Usa a função append para atribuir o valor `11` para lista.\n",
    "        * `a` é igual a `[5,7,11]`\n",
    "    * `a`: Mostra a saida dos valores contidos na lista `a`. O mais recomendado seria utilizar `print(c)`para imprimir os valores da lista.\n",
    "    "
   ]
  },
  {
   "cell_type": "markdown",
   "id": "be0d24b3",
   "metadata": {},
   "source": [
    "### Executando - Programa 5:"
   ]
  },
  {
   "cell_type": "code",
   "execution_count": 30,
   "id": "e7541534",
   "metadata": {},
   "outputs": [
    {
     "data": {
      "text/plain": [
       "True"
      ]
     },
     "execution_count": 30,
     "metadata": {},
     "output_type": "execute_result"
    }
   ],
   "source": [
    "a=3\n",
    "\n",
    "b=a>4\n",
    "\n",
    "c=b or True\n",
    "\n",
    "c"
   ]
  },
  {
   "cell_type": "markdown",
   "id": "5b7c0363",
   "metadata": {},
   "source": [
    "### Explicação - Programa 5:\n",
    "\n",
    "* **Variáveis envolvidas:**\n",
    "    * `a`: é a variável que armazena o valor inteiro `3`.\n",
    "    * `b`: é a variável que armazena o resultado de uma expressão lógica.\n",
    "    * `c`: é a variável que armazena o resultado de outra expressão lógica.\n",
    "\n",
    "* **Tipos de dados envolvidos:**\n",
    "    * `a`: É uma variável (int), pois foi atribuida a ela o número interiro `3`.\n",
    "    * `b`: É uma variável que armazena um valor booleano (`True` ou `False`).\n",
    "    * `c`: É uma variável que armazena um valor booleano (`True` ou `False`).\n",
    "\n",
    "* **Resultados do programa:**\n",
    "    * `a=3`: Atribui o valor inteiro `3` à variável `a`.\n",
    "    * `b=a>4`: Avalia a expressão lógica `a > 4`. Como `3` não é maior que `4`, `b` recebe o valor `False`.\n",
    "    * `c=b or True`: Avalia a expressão lógica `b or True`. Como `b` é `False` e a outra parte da expressão é `True`, o operador `or` retorna `True`, pois `or` retorna um valor falso se, e somente se, receber duas expressões falsas. Portanto, `c` recebe o valor `True`.\n",
    "    *  `c`: Mostra a saida do valor contido na variável `c` (`True`). O mais recomendado seria utilizar `print(c)`para imprimir o valor da variável.\n",
    "    "
   ]
  },
  {
   "cell_type": "markdown",
   "id": "ee28c1e3",
   "metadata": {},
   "source": [
    "------------------------------------------------------------------------------------------------------------------"
   ]
  }
 ],
 "metadata": {
  "kernelspec": {
   "display_name": "Python 3 (ipykernel)",
   "language": "python",
   "name": "python3"
  },
  "language_info": {
   "codemirror_mode": {
    "name": "ipython",
    "version": 3
   },
   "file_extension": ".py",
   "mimetype": "text/x-python",
   "name": "python",
   "nbconvert_exporter": "python",
   "pygments_lexer": "ipython3",
   "version": "3.10.12"
  }
 },
 "nbformat": 4,
 "nbformat_minor": 5
}
