{
 "cells": [
  {
   "cell_type": "markdown",
   "id": "d04428a9",
   "metadata": {},
   "source": [
    "------------------------------------------------------------------------------------------------------------------\n",
    "# PPGMC - FURG | 03043P - Algoritmos e Programas | 02/2023\n",
    "\n",
    "Este notebook contém a resolução da tarefa referente ao tópico 8 da disciplina 03043P - Algoritmos e Programas do Programa de Pós-Graduação em Modelagem Computacional da FURG (PPGMC-FURG).\n",
    "* **Docente:** Dr. Leonardo Ramos Emmendorfer.\n",
    "* **Discente:** Vitor Avelaneda.\n",
    "    * **Contato:** avelaneda.vitor@gmail.com\n",
    "\n",
    "O repositório com os notebooks pode ser acessado [aqui](https://github.com/vitoravelaneda/03043P-Algoritmos_e_Programas-PPGMC-FURG), e este notebook pode ser acessado [aqui!](https://github.com/vitoravelaneda/03043P-Algoritmos_e_Programas-PPGMC-FURG/blob/main/notebooks/tarefa_topico_9.ipynb)\n",
    "\n",
    "------------------------------------------------------------------------------------------------------------------"
   ]
  },
  {
   "cell_type": "markdown",
   "id": "33ee50dc",
   "metadata": {},
   "source": [
    "# Tarefa Tópico 9\n",
    "\n",
    "#### **1) Escreva uma função que calcule o valor médio de uma lista de números.**"
   ]
  },
  {
   "cell_type": "code",
   "execution_count": null,
   "id": "13d36820",
   "metadata": {},
   "outputs": [],
   "source": []
  },
  {
   "cell_type": "markdown",
   "id": "45818fdc",
   "metadata": {},
   "source": [
    "#### **2) Escreva uma função que receba dois números inteiros \"a\",\"b\" e verifique se \"a\" é divisível por \"b\". Retornar verdadeiro caso sejam divisíveis, e falso em caso contrário.** "
   ]
  },
  {
   "cell_type": "code",
   "execution_count": null,
   "id": "985230d9",
   "metadata": {},
   "outputs": [],
   "source": []
  },
  {
   "cell_type": "markdown",
   "id": "40f85b87",
   "metadata": {},
   "source": [
    "#### 3) **Escreva um programa que leia um número inteiro maior ou igual a 2 e menor ou igual a 9, e mostre a tabuada desse número.**"
   ]
  },
  {
   "cell_type": "code",
   "execution_count": null,
   "id": "8ec80489",
   "metadata": {
    "scrolled": true
   },
   "outputs": [],
   "source": []
  },
  {
   "cell_type": "markdown",
   "id": "8381a340",
   "metadata": {},
   "source": [
    "------------------------------------------------------------------------------------------------------------------"
   ]
  }
 ],
 "metadata": {
  "kernelspec": {
   "display_name": "Python 3 (ipykernel)",
   "language": "python",
   "name": "python3"
  },
  "language_info": {
   "codemirror_mode": {
    "name": "ipython",
    "version": 3
   },
   "file_extension": ".py",
   "mimetype": "text/x-python",
   "name": "python",
   "nbconvert_exporter": "python",
   "pygments_lexer": "ipython3",
   "version": "3.10.12"
  }
 },
 "nbformat": 4,
 "nbformat_minor": 5
}
