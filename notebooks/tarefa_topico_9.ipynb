{
 "cells": [
  {
   "cell_type": "markdown",
   "id": "d04428a9",
   "metadata": {},
   "source": [
    "------------------------------------------------------------------------------------------------------------------\n",
    "# PPGMC - FURG | 03043P - Algoritmos e Programas | 02/2023\n",
    "\n",
    "Este notebook contém a resolução da tarefa referente ao tópico 9 da disciplina 03043P - Algoritmos e Programas do Programa de Pós-Graduação em Modelagem Computacional da FURG (PPGMC-FURG).\n",
    "* **Docente:** Dr. Leonardo Ramos Emmendorfer.\n",
    "* **Discente:** Vitor Avelaneda.\n",
    "    * **Contato:** avelaneda.vitor@gmail.com\n",
    "\n",
    "O repositório com os notebooks pode ser acessado [aqui](https://github.com/vitoravelaneda/03043P-Algoritmos_e_Programas-PPGMC-FURG), e este notebook pode ser acessado [aqui!](https://github.com/vitoravelaneda/03043P-Algoritmos_e_Programas-PPGMC-FURG/blob/main/notebooks/tarefa_topico_9.ipynb)\n",
    "\n",
    "------------------------------------------------------------------------------------------------------------------"
   ]
  },
  {
   "cell_type": "markdown",
   "id": "33ee50dc",
   "metadata": {},
   "source": [
    "# Tarefa Tópico 9\n",
    "\n",
    "#### **1) Escreva uma função que calcule o valor médio de uma lista de números.**"
   ]
  },
  {
   "cell_type": "code",
   "execution_count": 1,
   "id": "13d36820",
   "metadata": {},
   "outputs": [],
   "source": [
    "def media(lista):\n",
    "    if not lista:\n",
    "        return None  # Retorna None se a lista estiver vazia\n",
    "    else:\n",
    "        return sum(lista) / len(lista)\n"
   ]
  },
  {
   "cell_type": "markdown",
   "id": "47ee8f0a",
   "metadata": {},
   "source": [
    "Testando a função:"
   ]
  },
  {
   "cell_type": "code",
   "execution_count": 2,
   "id": "e842df06",
   "metadata": {},
   "outputs": [
    {
     "name": "stdout",
     "output_type": "stream",
     "text": [
      "Média: 2.0\n"
     ]
    }
   ],
   "source": [
    "lista_teste = [1,1,3,3,2] # criando lista de teste.\n",
    "\n",
    "print(\"Média:\", media(lista_teste)) # Concatenei a função 'media' no print."
   ]
  },
  {
   "cell_type": "markdown",
   "id": "45818fdc",
   "metadata": {},
   "source": [
    "#### **2) Escreva uma função que receba dois números inteiros \"a\",\"b\" e verifique se \"a\" é divisível por \"b\". Retornar verdadeiro caso sejam divisíveis, e falso em caso contrário.** "
   ]
  },
  {
   "cell_type": "markdown",
   "id": "76cf066e",
   "metadata": {},
   "source": [
    "Criando a função:"
   ]
  },
  {
   "cell_type": "code",
   "execution_count": 3,
   "id": "985230d9",
   "metadata": {},
   "outputs": [],
   "source": [
    "def divisivel(a, b):\n",
    "    if b == 0:\n",
    "        return False  # Evitar divisão por zero\n",
    "    return a % b == 0"
   ]
  },
  {
   "cell_type": "markdown",
   "id": "a2668562",
   "metadata": {},
   "source": [
    "Verificando a divisibilidade:"
   ]
  },
  {
   "cell_type": "code",
   "execution_count": 4,
   "id": "fcc66a5d",
   "metadata": {},
   "outputs": [
    {
     "name": "stdout",
     "output_type": "stream",
     "text": [
      "15 é divisível por 3? True\n"
     ]
    }
   ],
   "source": [
    "# Caso verdadeiro:\n",
    "valor_a = 15\n",
    "valor_b = 3\n",
    "\n",
    "print(f\"{valor_a} é divisível por {valor_b}? {divisivel(valor_a, valor_b)}\") \n",
    "    # Concatenei a função 'divisivel' no print."
   ]
  },
  {
   "cell_type": "code",
   "execution_count": 5,
   "id": "b84d0f82",
   "metadata": {},
   "outputs": [
    {
     "name": "stdout",
     "output_type": "stream",
     "text": [
      "15 é divisível por 0? False\n"
     ]
    }
   ],
   "source": [
    "# Caso falso:\n",
    "valor_a = 15\n",
    "valor_b = 0\n",
    "\n",
    "print(f\"{valor_a} é divisível por {valor_b}? {divisivel(valor_a, valor_b)}\") \n",
    "    # Concatenei a função 'divisivel' no print."
   ]
  },
  {
   "cell_type": "markdown",
   "id": "40f85b87",
   "metadata": {},
   "source": [
    "#### 3) **Escreva uma função que receba um número  inteiro \"a\" e retorne uma lista com todos os divisores de \"a\". Exemplo: os divisores de 12 são 12,6,4,3,2 e 1. Exemplo de uso: print(divisores(x)).**"
   ]
  },
  {
   "cell_type": "code",
   "execution_count": 6,
   "id": "8ec80489",
   "metadata": {
    "scrolled": true
   },
   "outputs": [],
   "source": [
    "def divisores(a):\n",
    "    lista_divisores = []\n",
    "    for i in range(1, a + 1):\n",
    "        if a % i == 0:\n",
    "            lista_divisores.append(i)\n",
    "    return lista_divisores"
   ]
  },
  {
   "cell_type": "markdown",
   "id": "95ceeb65",
   "metadata": {},
   "source": [
    "Testando a função:"
   ]
  },
  {
   "cell_type": "code",
   "execution_count": 7,
   "id": "759db3d9",
   "metadata": {},
   "outputs": [
    {
     "name": "stdout",
     "output_type": "stream",
     "text": [
      "Divisores de 12: [1, 2, 3, 4, 6, 12]\n"
     ]
    }
   ],
   "source": [
    "x = 12\n",
    "\n",
    "print(f\"Divisores de {x}: {divisores(x)}\") # Concatenei a função 'divisores' no print."
   ]
  },
  {
   "cell_type": "markdown",
   "id": "bb8198f0",
   "metadata": {},
   "source": [
    "#### **4) Escreva uma função que testa se um número \"a\" dado é primo. Deve retornar verdadeiro apenas se \"a\" for primo, e falso caso contrário. Exemplo de uso: if (x>0 and primo(x)).**\n"
   ]
  },
  {
   "cell_type": "code",
   "execution_count": 8,
   "id": "96fc8d58",
   "metadata": {},
   "outputs": [],
   "source": [
    "def verificador_primo(a):\n",
    "    if a < 2:\n",
    "        return False  # Números menores que 2 não são primos\n",
    "\n",
    "    for i in range(2, int(a**0.5) + 1):\n",
    "        if a % i == 0:\n",
    "            return False  # Se for divisível por algum número, não é primo\n",
    "\n",
    "    return True  # Se não foi divisível por nenhum número, é primo"
   ]
  },
  {
   "cell_type": "markdown",
   "id": "5265d806",
   "metadata": {},
   "source": [
    "Testando a Função:"
   ]
  },
  {
   "cell_type": "code",
   "execution_count": 9,
   "id": "c41dc440",
   "metadata": {},
   "outputs": [
    {
     "name": "stdout",
     "output_type": "stream",
     "text": [
      "17 é primo? False\n"
     ]
    }
   ],
   "source": [
    "x = 17\n",
    "\n",
    "print(f\"{x} é primo? {verificador_primo(15)}\") # Concatenei a função 'verificador_primo' no print."
   ]
  },
  {
   "cell_type": "markdown",
   "id": "8381a340",
   "metadata": {},
   "source": [
    "------------------------------------------------------------------------------------------------------------------"
   ]
  }
 ],
 "metadata": {
  "kernelspec": {
   "display_name": "Python 3 (ipykernel)",
   "language": "python",
   "name": "python3"
  },
  "language_info": {
   "codemirror_mode": {
    "name": "ipython",
    "version": 3
   },
   "file_extension": ".py",
   "mimetype": "text/x-python",
   "name": "python",
   "nbconvert_exporter": "python",
   "pygments_lexer": "ipython3",
   "version": "3.10.12"
  }
 },
 "nbformat": 4,
 "nbformat_minor": 5
}
