{
 "cells": [
  {
   "cell_type": "markdown",
   "id": "d04428a9",
   "metadata": {},
   "source": [
    "------------------------------------------------------------------------------------------------------------------\n",
    "# PPGMC - FURG | 03043P - Algoritmos e Programas | 02/2023\n",
    "\n",
    "Este notebook contém a resolução da tarefa referente ao tópico 10 da disciplina 03043P - Algoritmos e Programas do Programa de Pós-Graduação em Modelagem Computacional da FURG (PPGMC-FURG).\n",
    "* **Docente:** Dr. Leonardo Ramos Emmendorfer.\n",
    "* **Discente:** Vitor Avelaneda.\n",
    "    * **Contato:** avelaneda.vitor@gmail.com\n",
    "\n",
    "O repositório com os notebooks pode ser acessado [aqui](https://github.com/vitoravelaneda/03043P-Algoritmos_e_Programas-PPGMC-FURG), e este notebook pode ser acessado [aqui!](https://github.com/vitoravelaneda/03043P-Algoritmos_e_Programas-PPGMC-FURG/blob/main/notebooks/tarefa_topico_10.ipynb)\n",
    "\n",
    "------------------------------------------------------------------------------------------------------------------"
   ]
  },
  {
   "cell_type": "markdown",
   "id": "33ee50dc",
   "metadata": {},
   "source": [
    "# Tarefa Tópico 10\n",
    "\n",
    "Dada um texto, fornecido pelo usuário, faça um programa que:    \n",
    "\n",
    "1) Passe todos os caracteres para maiúsculas;\n",
    "\n",
    "2) Elimine todos os símbolos e algarismos;\n",
    "\n",
    "3) Gere uma lista contendo todas as palavras da string;     \n",
    "\n",
    "4) Conte o número de ocorrências de cada palavra no texto;\n",
    "\n",
    "5) Mostre na tela a palavra mais frequente e o número de ocorrências da mesma.    \n",
    "\n",
    "Use como padrão o texto dado a seguir:    \n",
    "\n",
    "\"Sed ut perspiciatis unde omnis iste natus error sit voluptatem accusantium doloremque laudantium, totam rem aperiam eaque ipsa, quae ab illo inventore veritatis et quasi architecto beatae vitae dicta sunt, explicabo. Nemo enim ipsam voluptatem, quia voluptas sit, aspernatur aut odit aut fugit, sed quia consequuntur magni dolores eos, qui ratione voluptatem sequi nesciunt, neque porro quisquam est, qui dolorem ipsum, quia dolor sit, amet, consectetur, adipisci velit, sed quia non numquam eius modi tempora incidunt, ut labore et dolore magnam aliquam quaerat voluptatem. Ut enim ad minima veniam, quis nostrum exercitationem ullam corporis suscipit laboriosam, nisi ut aliquid ex ea commodi consequatur? Quis autem vel eum iure reprehenderit, qui in ea voluptate velit esse, quam nihil molestiae consequatur, vel illum, qui dolorem eum fugiat, quo voluptas nulla pariatur?\"   "
   ]
  },
  {
   "cell_type": "code",
   "execution_count": 1,
   "id": "13d36820",
   "metadata": {},
   "outputs": [
    {
     "name": "stdout",
     "output_type": "stream",
     "text": [
      "A palavra mais frequente é 'UT' com 4 ocorrências.\n"
     ]
    }
   ],
   "source": [
    "import re # Para operações de expressões regulares (regex).\n",
    "from collections import Counter # Para contar ocorrências de elementos em uma lista.\n",
    "\n",
    "def processar_texto(texto):\n",
    "    # 1) Passe todos os caracteres para maiúsculas\n",
    "    texto = texto.upper()\n",
    "\n",
    "    # 2) Elimine todos os símbolos e algarismos\n",
    "    texto = re.sub(r'[^A-Z\\s]', '', texto)\n",
    "\n",
    "    # 3) Gere uma lista contendo todas as palavras da string\n",
    "    palavras = texto.split()\n",
    "    \n",
    "    # 4) Conte o número de ocorrências de cada palavra no texto\n",
    "    contador_palavras = Counter(palavras)\n",
    "    \n",
    "    # 5) Mostre na tela a palavra mais frequente e o número de ocorrências da mesma\n",
    "    palavra_mais_comum, ocorrencia = contador_palavras.most_common(1)[0]\n",
    "    print(f\"A palavra mais frequente é '{palavra_mais_comum}' com {ocorrencia} ocorrências.\")\n",
    "\n",
    "# Texto fornecido pelo usuário\n",
    "texto_usuario = \"\"\"\n",
    "Sed ut perspiciatis unde omnis iste natus error sit voluptatem accusantium doloremque laudantium,\n",
    "totam rem aperiam eaque ipsa, quae ab illo inventore veritatis et quasi architecto beatae vitae dicta sunt, explicabo.\n",
    "Nemo enim ipsam voluptatem, quia voluptas sit, aspernatur aut odit aut fugit, sed quia consequuntur magni dolores eos,\n",
    "qui ratione voluptatem sequi nesciunt, neque porro quisquam est, qui dolorem ipsum, quia dolor sit, amet, consectetur,\n",
    "adipisci velit, sed quia non numquam eius modi tempora incidunt, ut labore et dolore magnam aliquam quaerat voluptatem.\n",
    "Ut enim ad minima veniam, quis nostrum exercitationem ullam corporis suscipit laboriosam, nisi ut aliquid ex ea commodi consequatur?\n",
    "Quis autem vel eum iure reprehenderit, qui in ea voluptate velit esse, quam nihil molestiae consequatur,\n",
    "vel illum, qui dolorem eum fugiat, quo voluptas nulla pariatur?\n",
    "\"\"\"\n",
    "\n",
    "# Chama a função para processar o texto\n",
    "processar_texto(texto_usuario)\n"
   ]
  },
  {
   "cell_type": "markdown",
   "id": "8381a340",
   "metadata": {},
   "source": [
    "------------------------------------------------------------------------------------------------------------------"
   ]
  }
 ],
 "metadata": {
  "kernelspec": {
   "display_name": "Python 3 (ipykernel)",
   "language": "python",
   "name": "python3"
  },
  "language_info": {
   "codemirror_mode": {
    "name": "ipython",
    "version": 3
   },
   "file_extension": ".py",
   "mimetype": "text/x-python",
   "name": "python",
   "nbconvert_exporter": "python",
   "pygments_lexer": "ipython3",
   "version": "3.10.12"
  }
 },
 "nbformat": 4,
 "nbformat_minor": 5
}
