{
 "cells": [
  {
   "cell_type": "markdown",
   "id": "d04428a9",
   "metadata": {},
   "source": [
    "------------------------------------------------------------------------------------------------------------------\n",
    "# PPGMC - FURG | 03043P - Algoritmos e Programas | 02/2023\n",
    "\n",
    "Este notebook contém a resolução da tarefa referente ao tópico 4 da disciplina 03043P - Algoritmos e Programas do Programa de Pós-Graduação em Modelagem Computacional da FURG (PPGMC-FURG).\n",
    "* **Docente:** Dr. Leonardo Ramos Emmendorfer.\n",
    "* **Discente:** Vitor Avelaneda.\n",
    "    * **Contato:** avelaneda.vitor@gmail.com\n",
    "\n",
    "O repositório com os notebooks pode ser acessado [aqui](https://github.com/vitoravelaneda/03043P-Algoritmos_e_Programas-PPGMC-FURG), e este notebook pode ser acessado [aqui!](https://github.com/vitoravelaneda/03043P-Algoritmos_e_Programas-PPGMC-FURG/blob/main/notebooks/tarefa_topico_4.ipynb)\n",
    "\n",
    "------------------------------------------------------------------------------------------------------------------"
   ]
  },
  {
   "cell_type": "markdown",
   "id": "33ee50dc",
   "metadata": {},
   "source": [
    "# Tarefa Tópico 4 \n",
    "1) Escreva um programa que receba o salário de um funcionário (float), e retorne o resultado do novo salário, com reajuste. As entradas são: salário atual e percentual de reajuste. "
   ]
  },
  {
   "cell_type": "code",
   "execution_count": null,
   "id": "3844de70",
   "metadata": {},
   "outputs": [],
   "source": [
    "# Recebendo o salário e o percentual de reajuste.\n",
    "salario_atual = float(input(\"Digite o salário atual do funcionário: \"))\n",
    "percentual_reajuste = float(input(\"Digite o percentual de reajuste (em porcentagem): \"))\n",
    "\n",
    "# Calculo do reajuste.\n",
    "salario_reajustado = salario_atual + (salario_atual * percentual_reajuste / 100)\n",
    "\n",
    "# Mostrando o resultado do salário reajustado.\n",
    "print(f\"O novo salário após o reajuste é: R$ {salario_reajustado:.2f}\")"
   ]
  },
  {
   "cell_type": "markdown",
   "id": "55fe846a",
   "metadata": {},
   "source": [
    "2) Faça um programa que leia o ano de nascimento de uma pessoa, e mostre como resultado sua idade aproximada, em anos."
   ]
  },
  {
   "cell_type": "code",
   "execution_count": null,
   "id": "87cc3a75",
   "metadata": {},
   "outputs": [],
   "source": [
    "# Recebendo o ano de nascimento da pessoa.\n",
    "ano_nascimento = int(input(\"Digite o ano de nascimento da pessoa: \"))\n",
    "\n",
    "# Ano no qual a disciplina está acontecendo.\n",
    "ano_atual = 2023\n",
    "\n",
    "# Calculando a idade.\n",
    "idade_aproximada = ano_atual - ano_nascimento\n",
    "\n",
    "# Mostrando o resultado da idade da pessoa.\n",
    "print(f\"Está pessoa tem aproximadamente {idade_aproximada} anos.\")"
   ]
  },
  {
   "cell_type": "markdown",
   "id": "8cec0add",
   "metadata": {},
   "source": [
    "------------------------------------------------------------------------------------------------------------------"
   ]
  }
 ],
 "metadata": {
  "kernelspec": {
   "display_name": "Python 3 (ipykernel)",
   "language": "python",
   "name": "python3"
  },
  "language_info": {
   "codemirror_mode": {
    "name": "ipython",
    "version": 3
   },
   "file_extension": ".py",
   "mimetype": "text/x-python",
   "name": "python",
   "nbconvert_exporter": "python",
   "pygments_lexer": "ipython3",
   "version": "3.10.12"
  }
 },
 "nbformat": 4,
 "nbformat_minor": 5
}
