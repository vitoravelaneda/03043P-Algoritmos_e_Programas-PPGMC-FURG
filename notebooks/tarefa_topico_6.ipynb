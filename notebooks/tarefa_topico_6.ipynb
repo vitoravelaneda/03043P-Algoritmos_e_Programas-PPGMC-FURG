{
 "cells": [
  {
   "cell_type": "markdown",
   "id": "d04428a9",
   "metadata": {},
   "source": [
    "------------------------------------------------------------------------------------------------------------------\n",
    "# PPGMC - FURG | 03043P - Algoritmos e Programas | 02/2023\n",
    "\n",
    "Este notebook contém a resolução da tarefa referente ao tópico 6 da disciplina 03043P - Algoritmos e Programas do Programa de Pós-Graduação em Modelagem Computacional da FURG (PPGMC-FURG).\n",
    "* **Docente:** Dr. Leonardo Ramos Emmendorfer.\n",
    "* **Discente:** Vitor Avelaneda.\n",
    "    * **Contato:** avelaneda.vitor@gmail.com\n",
    "\n",
    "O repositório com os notebooks pode ser acessado [aqui](https://github.com/vitoravelaneda/03043P-Algoritmos_e_Programas-PPGMC-FURG), e este notebook pode ser acessado [aqui!](https://github.com/vitoravelaneda/03043P-Algoritmos_e_Programas-PPGMC-FURG/blob/main/notebooks/tarefa_topico_6.ipynb)\n",
    "\n",
    "------------------------------------------------------------------------------------------------------------------"
   ]
  },
  {
   "cell_type": "markdown",
   "id": "33ee50dc",
   "metadata": {},
   "source": [
    "# Tarefa Tópico 6\n",
    "1) **Execute o programa a seguir e observe seu resultado para um inteiro menor que 18 dado como entrada:**\n",
    "\n",
    "```python\n",
    "idade=int(input(\"Qual a sua idade? \"))\n",
    "\n",
    "if (idade<18):\n",
    "\n",
    "    print(\"Você ainda não pode dirigir.\")\n",
    "```"
   ]
  },
  {
   "cell_type": "code",
   "execution_count": 1,
   "id": "b9beb540",
   "metadata": {},
   "outputs": [
    {
     "name": "stdout",
     "output_type": "stream",
     "text": [
      "Qual a sua idade? 7\n",
      "Você ainda não pode dirigir.\n"
     ]
    }
   ],
   "source": [
    "idade=int(input(\"Qual a sua idade? \"))\n",
    "\n",
    "if (idade<18):\n",
    "\n",
    "    print(\"Você ainda não pode dirigir.\")"
   ]
  },
  {
   "cell_type": "markdown",
   "id": "99edbfdb",
   "metadata": {},
   "source": [
    "2) **Execute o programa a seguir e observe seu resultado para um inteiro positivo qualquer dado como entrada:**\n",
    "\n",
    "```python\n",
    "idade=int(input(\"Qual a sua idade? \"))\n",
    "\n",
    "if (idade<18):\n",
    "\n",
    "    print(\"Você ainda não pode dirigir.\")\n",
    "\n",
    "else:\n",
    "\n",
    "    print(\"Você já pode dirigir.\")    \n",
    "```"
   ]
  },
  {
   "cell_type": "code",
   "execution_count": 2,
   "id": "98dcabfd",
   "metadata": {},
   "outputs": [
    {
     "name": "stdout",
     "output_type": "stream",
     "text": [
      "Qual a sua idade? 25\n",
      "Você já pode dirigir.\n"
     ]
    }
   ],
   "source": [
    "idade=int(input(\"Qual a sua idade? \"))\n",
    "\n",
    "if (idade<18):\n",
    "\n",
    "    print(\"Você ainda não pode dirigir.\")\n",
    "\n",
    "else:\n",
    "\n",
    "    print(\"Você já pode dirigir.\") "
   ]
  },
  {
   "cell_type": "markdown",
   "id": "de963084",
   "metadata": {},
   "source": [
    "3) **Execute o programa a seguir e observe seu resultado para números inteiros positivos ou negativos:**\n",
    "\n",
    "```python\n",
    "idade=int(input(\"Qual a sua idade? \"))\n",
    "\n",
    "if (idade<0):\n",
    "\n",
    "    print(\"Erro: digite uma idade válida.\")\n",
    "\n",
    "elif (idade<18):\n",
    "\n",
    "    print(\"Você ainda não pode dirigir.\")\n",
    "\n",
    "else:    \n",
    "\n",
    "    print(\"Você já pode dirigir.\") \n",
    "```"
   ]
  },
  {
   "cell_type": "code",
   "execution_count": 3,
   "id": "206a8aca",
   "metadata": {},
   "outputs": [
    {
     "name": "stdout",
     "output_type": "stream",
     "text": [
      "Qual a sua idade? -25\n",
      "Erro: digite uma idade válida.\n"
     ]
    }
   ],
   "source": [
    "idade=int(input(\"Qual a sua idade? \"))\n",
    "\n",
    "if (idade<0):\n",
    "\n",
    "    print(\"Erro: digite uma idade válida.\")\n",
    "\n",
    "elif (idade<18):\n",
    "\n",
    "    print(\"Você ainda não pode dirigir.\")\n",
    "\n",
    "else:    \n",
    "\n",
    "    print(\"Você já pode dirigir.\") "
   ]
  },
  {
   "cell_type": "markdown",
   "id": "8a4b17aa",
   "metadata": {},
   "source": [
    "4) **Com base nos resultados obtidos com os exercícios acima, responda o que faz o comando \"if\"? E quando existe um \"else\", qual o comportamento? E se houver um \"elif\"?**"
   ]
  },
  {
   "cell_type": "markdown",
   "id": "9a9b7589",
   "metadata": {},
   "source": [
    "* `if`, `else` e `elif` são condições de controle. \n",
    "* O `if` só permite a execução do comando dentro do bloco `if` se a condição utilizada for verdadeira. \n",
    "* O `else` serve como contorno executando um bloco alternativo caso a condição do `if` for falsa.\n",
    "* O `elif` é uma abreviatura para else if, ele é utilizado para analizar mais condições após o `if` e antes de um possível `else`."
   ]
  },
  {
   "cell_type": "markdown",
   "id": "899b1308",
   "metadata": {},
   "source": [
    "5) **Faça um programa que leia 2 notas de um aluno em uma disciplina, calcule a média e imprima aprovado ou reprovado (para ser aprovado a média deve ser no mínimo 7)**"
   ]
  },
  {
   "cell_type": "code",
   "execution_count": 5,
   "id": "c74c114e",
   "metadata": {},
   "outputs": [
    {
     "name": "stdout",
     "output_type": "stream",
     "text": [
      "Digite a primeira nota: 7\n",
      "Digite a segunda nota: 9\n",
      "O aluno foi aprovado!\n"
     ]
    }
   ],
   "source": [
    "# Recebendo as notas do aluno.\n",
    "nota1 = float(input(\"Digite a primeira nota: \"))\n",
    "nota2 = float(input(\"Digite a segunda nota: \"))\n",
    "\n",
    "# Calculando a média das notas.\n",
    "media = (nota1 + nota2) / 2\n",
    "\n",
    "# Verificando se o aluno foi aprovado ou reprovado.\n",
    "if media >= 7.0:\n",
    "    print(\"O aluno foi aprovado!\")\n",
    "else:\n",
    "    print(\"O aluno foi reprovado!\")"
   ]
  },
  {
   "cell_type": "markdown",
   "id": "29098680",
   "metadata": {},
   "source": [
    "6) **Refaça o exercício 5 acima, identificando o conceito aprovado (média superior ou igual a 7), em exame (média abaixo de 7) ou reprovado (após exame). No caso de aluno em exame, a média final será a média entre a nota do exame e a primeira média  calculada a partir das duas notas, conforme exercício (5). Caso a média final esteja igual ou acima de 5, o aluno será considerado aprovado. Considere também a possibilidade de um valor negativo ser inserido, e acuse um erro nesse caso.**"
   ]
  },
  {
   "cell_type": "code",
   "execution_count": 6,
   "id": "b50bd1b6",
   "metadata": {},
   "outputs": [
    {
     "name": "stdout",
     "output_type": "stream",
     "text": [
      "Digite a primeira nota: 5\n",
      "Digite a segunda nota: 6\n",
      "O aluno está em exame com média 5.5\n",
      "Digite a nota do exame: 4\n",
      "O aluno foi reprovado após o exame com média final 4.8\n"
     ]
    }
   ],
   "source": [
    "# Recebendo as notas do aluno.\n",
    "nota1 = float(input(\"Digite a primeira nota: \"))\n",
    "nota2 = float(input(\"Digite a segunda nota: \"))\n",
    "\n",
    "# Verificando se as notas são negativas.\n",
    "if nota1 < 0 or nota2 < 0:\n",
    "    print(\"Erro: As notas não podem ser negativas.\")\n",
    "else:\n",
    "    \n",
    "    # Calculanado a média das notas.\n",
    "    media = (nota1 + nota2) / 2\n",
    "\n",
    "    # Verificando a se o aluno aprovou ou está em exame.\n",
    "    if media >= 7.0:\n",
    "        print(f\"O aluno foi aprovado com média {media:.1f}\")\n",
    "    else:\n",
    "        print(f\"O aluno está em exame com média {media:.1f}\")\n",
    "\n",
    "        # Recebendo a nota do exame.\n",
    "        nota_exame = float(input(\"Digite a nota do exame: \"))\n",
    "        \n",
    "        # Verificando se as nota do exame é negativa.\n",
    "        if nota_exame < 0:\n",
    "            print(\"Erro: As notas não podem ser negativas.\")\n",
    "        else:\n",
    "            \n",
    "            # Calcula a média final entre a nota do exame e a média das notas originais\n",
    "            media_final = (media + nota_exame) / 2\n",
    "\n",
    "            # Verifica se o aluno foi aprovado após o exame\n",
    "            if media_final >= 5.0:\n",
    "                print(f\"O aluno foi aprovado após o exame com média final {media_final:.1f}\")\n",
    "            else:\n",
    "                print(f\"O aluno foi reprovado após o exame com média final {media_final:.1f}\")\n"
   ]
  },
  {
   "cell_type": "markdown",
   "id": "8cec0add",
   "metadata": {},
   "source": [
    "------------------------------------------------------------------------------------------------------------------"
   ]
  }
 ],
 "metadata": {
  "kernelspec": {
   "display_name": "Python 3 (ipykernel)",
   "language": "python",
   "name": "python3"
  },
  "language_info": {
   "codemirror_mode": {
    "name": "ipython",
    "version": 3
   },
   "file_extension": ".py",
   "mimetype": "text/x-python",
   "name": "python",
   "nbconvert_exporter": "python",
   "pygments_lexer": "ipython3",
   "version": "3.10.12"
  }
 },
 "nbformat": 4,
 "nbformat_minor": 5
}
