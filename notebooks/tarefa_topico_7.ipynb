{
 "cells": [
  {
   "cell_type": "markdown",
   "id": "d04428a9",
   "metadata": {},
   "source": [
    "------------------------------------------------------------------------------------------------------------------\n",
    "# PPGMC - FURG | 03043P - Algoritmos e Programas | 02/2023\n",
    "\n",
    "Este notebook contém a resolução da tarefa referente ao tópico 7 da disciplina 03043P - Algoritmos e Programas do Programa de Pós-Graduação em Modelagem Computacional da FURG (PPGMC-FURG).\n",
    "* **Docente:** Dr. Leonardo Ramos Emmendorfer.\n",
    "* **Discente:** Vitor Avelaneda.\n",
    "    * **Contato:** avelaneda.vitor@gmail.com\n",
    "\n",
    "O repositório com os notebooks pode ser acessado [aqui](https://github.com/vitoravelaneda/03043P-Algoritmos_e_Programas-PPGMC-FURG), e este notebook pode ser acessado [aqui!](https://github.com/vitoravelaneda/03043P-Algoritmos_e_Programas-PPGMC-FURG/blob/main/notebooks/tarefa_topico_7.ipynb)\n",
    "\n",
    "------------------------------------------------------------------------------------------------------------------"
   ]
  },
  {
   "cell_type": "markdown",
   "id": "33ee50dc",
   "metadata": {},
   "source": [
    "# Tarefa Tópico 7\n",
    "#### 1) **Execute as instruçõe a seguir e observe seu resultado.**\n",
    "\n",
    "```python\n",
    "D={\"arroz\": 17.30, \"feijão\":12.50,\"carne\":23.90,\"alface\":3.40} \n",
    "\n",
    "print(D[\"carne\"])\n",
    "\n",
    "print(D[\"alface\"])\n",
    "\n",
    "D[\"carne\"]=25.0 \n",
    "\n",
    "D[\"alface\"]=5.20\n",
    "\n",
    "print(D[\"carne\"])\n",
    "\n",
    "print(D[\"alface\"])\n",
    "\n",
    "print(D[\"tomate\"])\n",
    "```\n"
   ]
  },
  {
   "cell_type": "code",
   "execution_count": 1,
   "id": "5874e188",
   "metadata": {},
   "outputs": [
    {
     "name": "stdout",
     "output_type": "stream",
     "text": [
      "23.9\n",
      "3.4\n",
      "25.0\n",
      "5.2\n"
     ]
    },
    {
     "ename": "KeyError",
     "evalue": "'tomate'",
     "output_type": "error",
     "traceback": [
      "\u001b[0;31m---------------------------------------------------------------------------\u001b[0m",
      "\u001b[0;31mKeyError\u001b[0m                                  Traceback (most recent call last)",
      "\u001b[0;32m/tmp/ipykernel_114392/3762577941.py\u001b[0m in \u001b[0;36m<module>\u001b[0;34m\u001b[0m\n\u001b[1;32m     13\u001b[0m \u001b[0mprint\u001b[0m\u001b[0;34m(\u001b[0m\u001b[0mD\u001b[0m\u001b[0;34m[\u001b[0m\u001b[0;34m\"alface\"\u001b[0m\u001b[0;34m]\u001b[0m\u001b[0;34m)\u001b[0m\u001b[0;34m\u001b[0m\u001b[0;34m\u001b[0m\u001b[0m\n\u001b[1;32m     14\u001b[0m \u001b[0;34m\u001b[0m\u001b[0m\n\u001b[0;32m---> 15\u001b[0;31m \u001b[0mprint\u001b[0m\u001b[0;34m(\u001b[0m\u001b[0mD\u001b[0m\u001b[0;34m[\u001b[0m\u001b[0;34m\"tomate\"\u001b[0m\u001b[0;34m]\u001b[0m\u001b[0;34m)\u001b[0m \u001b[0;31m# Essa variável não existe em D, por isso irá acusar erro no código!\u001b[0m\u001b[0;34m\u001b[0m\u001b[0;34m\u001b[0m\u001b[0m\n\u001b[0m",
      "\u001b[0;31mKeyError\u001b[0m: 'tomate'"
     ]
    }
   ],
   "source": [
    "D={\"arroz\": 17.30, \"feijão\":12.50,\"carne\":23.90,\"alface\":3.40} \n",
    "\n",
    "print(D[\"carne\"])\n",
    "\n",
    "print(D[\"alface\"])\n",
    "\n",
    "D[\"carne\"]=25.0 \n",
    "\n",
    "D[\"alface\"]=5.20\n",
    "\n",
    "print(D[\"carne\"])\n",
    "\n",
    "print(D[\"alface\"])\n",
    "\n",
    "print(D[\"tomate\"]) # Essa variável não existe em D, por isso irá acusar erro no código!"
   ]
  },
  {
   "cell_type": "markdown",
   "id": "ff1ba9fe",
   "metadata": {},
   "source": [
    "#### 2) **Explique o funcionamento do programa a seguir, que utiliza um dicionário D. O que acontece quando um usuário tenta acessar mas não está cadastrado? Melhorar o código para contemplar esta situação.**\n",
    "\n",
    "```python\n",
    "D={\"ana12\": \"1234\", \"lucas2019\":\"minhasenha\",\"anonymous\":\"anonymous\",\"root\":\"abc\"} \n",
    "\n",
    "nome=input(\"Digite o nome de usuário:\")\n",
    "\n",
    "if (nome in D):\n",
    "\n",
    "    senha=input(\"Digite a senha: \")\n",
    "\n",
    "    if D[nome]==senha:\n",
    "\n",
    "        print(\"Olá, \",nome,\"!\")\n",
    "\n",
    "    else:\n",
    "\n",
    "        print(\"Senha incorreta.\")\n",
    "```\n"
   ]
  },
  {
   "cell_type": "markdown",
   "id": "8d384dde",
   "metadata": {},
   "source": [
    "**Explicando o código**\n",
    "\n",
    "* `D={\"ana12\": \"1234\", \"lucas2019\":\"minhasenha\",\"anonymous\":\"anonymous\",\"root\":\"abc\"}`: Cria um dicionário (`{}`) com 4 pares de chave-valor (`\"chave\":valor`) e atribui à variável `D`.\n",
    "\n",
    "* `nome=input(\"Digite o nome de usuário:\")`: Solicita um nome de usuário e armazena na variável `nome`.\n",
    "\n",
    "* `if (nome in D):\")`: Verifica se `nome` existe em `D`.\n",
    "\n",
    "    * Se existir `nome` em `D`...\n",
    "    * `senha=input(\"Digite a senha: \")`: Solicita uma senha ao usuário e depois armazena na variável `senha`.\n",
    "    * `if D[nome]==senha:`: Verifica se `D[nome]` é igual a `senha`.\n",
    "        * Se `D[nome]` é igual a `senha` ...\n",
    "        * `print(\"Olá, \",nome,\"!\")`: Impreme a frase (Olá, `nome de usuário`!) \n",
    "    * `else:`: Se não ...\n",
    "        * `print(\"Senha incorreta.\")`: Imprime a frase (Senha incorreta.)\n",
    "\n",
    "**O que acontece quando um usuário tenta acessar mas não está cadastrado?**\n",
    "\n",
    "O código interrompe a execução, pois não há uma condição de contorno para o caso de não existir usuário cadastrado no banco de dados (dicionário).\n",
    "\n",
    "**Melhorar o código para contemplar esta situação.**\n"
   ]
  },
  {
   "cell_type": "code",
   "execution_count": 2,
   "id": "b949d270",
   "metadata": {},
   "outputs": [
    {
     "name": "stdout",
     "output_type": "stream",
     "text": [
      "Digite o nome de usuário:Vitor\n",
      "Usuário não cadastrado!\n"
     ]
    }
   ],
   "source": [
    "D={\"ana12\": \"1234\", \"lucas2019\":\"minhasenha\",\"anonymous\":\"anonymous\",\"root\":\"abc\"} \n",
    "\n",
    "nome=input(\"Digite o nome de usuário:\")\n",
    "\n",
    "if (nome in D):\n",
    "\n",
    "    senha=input(\"Digite a senha: \")\n",
    "\n",
    "    if D[nome]==senha:\n",
    "\n",
    "        print(f\"Olá, {nome}!\")\n",
    "\n",
    "    else:\n",
    "\n",
    "        print(\"Senha incorreta.\")\n",
    "\n",
    "else:\n",
    "    print(\"Usuário não cadastrado!\")\n",
    "        "
   ]
  },
  {
   "cell_type": "markdown",
   "id": "2a8df96e",
   "metadata": {},
   "source": [
    "#### 3) **Dada a tabela a seguir, crie um dicionário que a represente:**\n",
    "\n",
    "Produtos Preço (R$) \n",
    "\n",
    "Empada  4.50 \n",
    "\n",
    "Xis 16.50 \n",
    "\n",
    "Suco 5.00 \n",
    "\n",
    "Refrigerante  3.50 \n",
    "\n",
    "Doce  2.00 "
   ]
  },
  {
   "cell_type": "code",
   "execution_count": 3,
   "id": "aaffcdee",
   "metadata": {},
   "outputs": [
    {
     "name": "stdout",
     "output_type": "stream",
     "text": [
      "{'Empada': 4.5, 'Xis': 16.5, 'Suco': 5.0, 'Refrigerante': 3.5, 'Doce': 2.0}\n"
     ]
    }
   ],
   "source": [
    "# Dicionário Produtos-Preço(R$).\n",
    "df = {} # Criando dicionário.\n",
    "\n",
    "# Preenchendo dicionário com os dados da tabela. (Não foi adicionado o header da tabela no dicionário)\n",
    "df[\"Empada\"] = 4.50 \n",
    "df[\"Xis\"] = 16.50\n",
    "df[\"Suco\"] = 5.00\n",
    "df[\"Refrigerante\"] = 3.50\n",
    "df[\"Doce\"] = 2.00\n",
    "\n",
    "# Imprimindo a tabela.\n",
    "print(df) "
   ]
  },
  {
   "cell_type": "code",
   "execution_count": 4,
   "id": "34c4cd00",
   "metadata": {},
   "outputs": [
    {
     "name": "stdout",
     "output_type": "stream",
     "text": [
      "{'Empada': 4.5, 'Xis': 16.5, 'Suco': 5.0, 'Refrigerante': 3.5, 'Doce': 2.0}\n"
     ]
    }
   ],
   "source": [
    "# Criando dicionário Produtos-Preço(R$) com os dados da tabela. (Não foi adicionado o header da tabela no dicionário)\n",
    "df = {\"Empada\":4.50, \"Xis\":16.50, \"Suco\":5.00, \"Refrigerante\":3.50, \"Doce\":2.00} \n",
    "\n",
    "# Imprimindo a tabela.\n",
    "print(df) "
   ]
  },
  {
   "cell_type": "markdown",
   "id": "9a3f6f7f",
   "metadata": {},
   "source": [
    "#### 4) **Utilizando a mesma ideia adotada no exercicio (3), faça um programa que leia 10 nomes de produtos e mostre na tela o preço total dos 10 produtos lidos.**"
   ]
  },
  {
   "cell_type": "code",
   "execution_count": 6,
   "id": "58acb2b6",
   "metadata": {
    "scrolled": false
   },
   "outputs": [
    {
     "name": "stdout",
     "output_type": "stream",
     "text": [
      "Digite o nome do produto 1: 1\n",
      "Digite o preço do produto 1: 1\n",
      "Digite o nome do produto 2: 2\n",
      "Digite o preço do produto 2: 1\n",
      "Digite o nome do produto 3: 3\n",
      "Digite o preço do produto 3: 1\n",
      "Digite o nome do produto 4: 4\n",
      "Digite o preço do produto 4: 1\n",
      "Digite o nome do produto 5: 5\n",
      "Digite o preço do produto 5: 1\n",
      "Digite o nome do produto 6: 6\n",
      "Digite o preço do produto 6: 1\n",
      "Digite o nome do produto 7: 7\n",
      "Digite o preço do produto 7: 1\n",
      "Digite o nome do produto 8: 8\n",
      "Digite o preço do produto 8: 1\n",
      "Digite o nome do produto 9: 9\n",
      "Digite o preço do produto 9: 1\n",
      "Digite o nome do produto 10: 10\n",
      "Digite o preço do produto 10: 1\n",
      "O preço total dos 10 produtos é: R$10.00\n"
     ]
    }
   ],
   "source": [
    "# Criando dicionário para armazenar os produtos e seus preços.\n",
    "produtos = {}\n",
    "\n",
    "# Criando loop que vai ler 10 nomes de produtos e seus preços.\n",
    "for i in range(10):\n",
    "    nome_produto = input(f\"Digite o nome do produto {i + 1}: \")\n",
    "    preco_produto = float(input(f\"Digite o preço do produto {i + 1}: \"))\n",
    "    \n",
    "    # Adicinando o produto e preço ao dicionário\n",
    "    produtos[nome_produto] = preco_produto\n",
    "\n",
    "# Calculando o preço total somando os valores no dicionário.\n",
    "preco_total = sum(produtos.values()) # .values() chama todos os valores do dicionário.\n",
    "\n",
    "# Mostrando o preço total.\n",
    "print(f\"O preço total dos 10 produtos é: R${preco_total:.2f}\")\n"
   ]
  },
  {
   "cell_type": "markdown",
   "id": "b45c4360",
   "metadata": {},
   "source": [
    "------------------------------------------------------------------------------------------------------------------"
   ]
  }
 ],
 "metadata": {
  "kernelspec": {
   "display_name": "Python 3 (ipykernel)",
   "language": "python",
   "name": "python3"
  },
  "language_info": {
   "codemirror_mode": {
    "name": "ipython",
    "version": 3
   },
   "file_extension": ".py",
   "mimetype": "text/x-python",
   "name": "python",
   "nbconvert_exporter": "python",
   "pygments_lexer": "ipython3",
   "version": "3.10.12"
  }
 },
 "nbformat": 4,
 "nbformat_minor": 5
}
