{
 "cells": [
  {
   "cell_type": "markdown",
   "id": "d04428a9",
   "metadata": {},
   "source": [
    "------------------------------------------------------------------------------------------------------------------\n",
    "# PPGMC - FURG | 03043P - Algoritmos e Programas | 02/2023\n",
    "\n",
    "Este notebook contém a resolução da tarefa referente ao tópico 5 da disciplina 03043P - Algoritmos e Programas do Programa de Pós-Graduação em Modelagem Computacional da FURG (PPGMC-FURG).\n",
    "* **Docente:** Dr. Leonardo Ramos Emmendorfer.\n",
    "* **Discente:** Vitor Avelaneda.\n",
    "    * **Contato:** avelaneda.vitor@gmail.com\n",
    "\n",
    "O repositório com os notebooks pode ser acessado [aqui](https://github.com/vitoravelaneda/03043P-Algoritmos_e_Programas-PPGMC-FURG), e este notebook pode ser acessado [aqui!](https://github.com/vitoravelaneda/03043P-Algoritmos_e_Programas-PPGMC-FURG/blob/main/notebooks/tarefa_topico_5.ipynb)\n",
    "\n",
    "------------------------------------------------------------------------------------------------------------------"
   ]
  },
  {
   "cell_type": "markdown",
   "id": "33ee50dc",
   "metadata": {},
   "source": [
    "# Tarefa Tópico 5 \n",
    "* Faça um programa que leia 3 entradas: um inteiro, um float e uma string. Todas as entradas devem ser colocadas em uma lista. Ao final, mostrar a lista como resultado."
   ]
  },
  {
   "cell_type": "code",
   "execution_count": 1,
   "id": "4c6c4844",
   "metadata": {},
   "outputs": [
    {
     "name": "stdout",
     "output_type": "stream",
     "text": [
      "Digite um número inteiro: 1\n",
      "Digite um número de ponto flutuante: .5\n",
      "Digite uma string: pipitchu\n",
      "Lista com as entradas: [1, 0.5, 'pipitchu']\n"
     ]
    }
   ],
   "source": [
    "# Recebendo os valores de entrada.\n",
    "inteiro = int(input(\"Digite um número inteiro: \"))\n",
    "flutuante = float(input(\"Digite um número de ponto flutuante: \"))\n",
    "texto = input(\"Digite uma string: \") # O python assume por padão que todas entradas (inputs) são strings.\n",
    "\n",
    "# Criando a lista com as entradas.\n",
    "lista = [inteiro, flutuante, texto]\n",
    "\n",
    "# Mostrando a lista com as entradas.\n",
    "print(f\"Lista com as entradas: {lista}\")"
   ]
  },
  {
   "cell_type": "markdown",
   "id": "8cec0add",
   "metadata": {},
   "source": [
    "------------------------------------------------------------------------------------------------------------------"
   ]
  }
 ],
 "metadata": {
  "kernelspec": {
   "display_name": "Python 3 (ipykernel)",
   "language": "python",
   "name": "python3"
  },
  "language_info": {
   "codemirror_mode": {
    "name": "ipython",
    "version": 3
   },
   "file_extension": ".py",
   "mimetype": "text/x-python",
   "name": "python",
   "nbconvert_exporter": "python",
   "pygments_lexer": "ipython3",
   "version": "3.10.12"
  }
 },
 "nbformat": 4,
 "nbformat_minor": 5
}
